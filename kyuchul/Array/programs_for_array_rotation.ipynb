{
 "cells": [
  {
   "cell_type": "markdown",
   "metadata": {},
   "source": [
    "Write a function rotate(ar[], d, n) that rotates arr[] of size n by d elements.\n",
    "\n",
    "[1, 2, 3, 4, 5, 6, 7]\n",
    "\n",
    "rotation of the above array by 2 will make array\n",
    "\n",
    "[3, 4, 5, 6, 7, 1, 2]"
   ]
  },
  {
   "cell_type": "markdown",
   "metadata": {},
   "source": [
    "### PRACICE \n",
    "\n",
    "Given an array arr[] of N integers. Do the following operation n-1 times. For every Kth operation:\n",
    "\n",
    "Right rotate the array clockwise by 1.\n",
    "Delete the (n-k+1)th last element.\n",
    "Now, find the element which is left at last.\n",
    "\n",
    "Input:\n",
    "The first line of input contains an integer T denoting the number of test cases. Then T test cases follows. Each test case contains two lines. The first line of each test case contains an integer N. Then in the next line are N space separated values of the array arr[].\n",
    "\n",
    "Output:\n",
    "For each test case in a new line print the required result.\n",
    "\n",
    "Constraints:\n",
    "1 <= T <= 110\n",
    "1 <= N <= 106\n",
    "1 <= A[i] <= 107\n",
    "\n",
    "Example:\n",
    "Input\n",
    "2\n",
    "4\n",
    "1 2 3 4\n",
    "6\n",
    "1 2 3 4 5 6\n",
    "\n",
    "Output:\n",
    "2\n",
    "3\n",
    "\n",
    "Explanation:\n",
    "Testcase 2: A = {1, 2, 3, 4, 5, 6}. Rotate the array clockwise i.e. after rotation the array A = {6, 1, 2, 3, 4, 5} and delete the last element that is {5} so A = {6, 1, 2, 3, 4}. Again rotate the array for the second time and deletes the second last element that is {2} so A = {4, 6, 1, 3}, doing these steps when he reaches 4th time, 4th last element does not exists so he deletes 1st element ie {1} so A={3, 6}. So continuing this procedure the last element in A is {3}, so outputp will be 3."
   ]
  },
  {
   "cell_type": "code",
   "execution_count": 4,
   "metadata": {},
   "outputs": [],
   "source": [
    "import array\n",
    "\n",
    "arr = array.array('i', [1, 2, 3, 4, 5, 6, 7])\n",
    "d = 2\n",
    "n = 7"
   ]
  },
  {
   "cell_type": "markdown",
   "metadata": {},
   "source": [
    "### Method 1 (Using temp array)\n",
    "\n",
    "* Time complexity: O(n)\n",
    "* Auxilary Space: O(d)"
   ]
  },
  {
   "cell_type": "code",
   "execution_count": 21,
   "metadata": {},
   "outputs": [],
   "source": [
    "temp = arr[:d]\n",
    "arr = arr[d:]\n",
    "arr.extend(temp)"
   ]
  },
  {
   "cell_type": "code",
   "execution_count": 22,
   "metadata": {},
   "outputs": [
    {
     "data": {
      "text/plain": [
       "array('i', [3, 4, 5, 6, 7, 1, 2])"
      ]
     },
     "execution_count": 22,
     "metadata": {},
     "output_type": "execute_result"
    }
   ],
   "source": [
    "arr"
   ]
  },
  {
   "cell_type": "markdown",
   "metadata": {},
   "source": [
    "### Method 2 (Rotate one by one)\n",
    "\n",
    "```\n",
    "leftRotate(arr[], d, n)\n",
    "start\n",
    "    For i = 0 to i < d   \n",
    "        Left rotate all elements of arr[] by one\n",
    "end\n",
    "```\n",
    "\n",
    "* time complexity: O(n*d)\n",
    "* Auxilary Space: O(1)"
   ]
  },
  {
   "cell_type": "code",
   "execution_count": 31,
   "metadata": {},
   "outputs": [],
   "source": [
    "arr = array.array('i', [1, 2, 3, 4, 5, 6, 7])\n",
    "d = 2\n",
    "n = 7"
   ]
  },
  {
   "cell_type": "code",
   "execution_count": 32,
   "metadata": {},
   "outputs": [],
   "source": [
    "def leftRotatebyOne(arr, n):\n",
    "    temp = arr[0]\n",
    "    for i in range(n-1):\n",
    "        arr[i] = arr[i+1]\n",
    "    arr[n-1] = temp\n",
    "\n",
    "def leftRotate(arr, d, n):\n",
    "    for i in range(d):\n",
    "        leftRotatebyOne(arr, n)\n",
    "\n",
    "leftRotate(arr, d, n)"
   ]
  },
  {
   "cell_type": "markdown",
   "metadata": {},
   "source": [
    "### Method 3 (A Juggling Algorithm)\n"
   ]
  },
  {
   "cell_type": "markdown",
   "metadata": {},
   "source": [
    "### Method 4 (Reversal algorithm)\n",
    "\n",
    "* time complexity: O(n)"
   ]
  },
  {
   "cell_type": "code",
   "execution_count": 13,
   "metadata": {},
   "outputs": [],
   "source": [
    "def rverse_array(arr, start, end):\n",
    "    while start < end:\n",
    "        temp = arr[start]\n",
    "        arr[start] = arr[end]\n",
    "        arr[end] = temp\n",
    "        start += 1\n",
    "        end -= 1\n",
    "        print(arr)\n",
    "\n",
    "def left_rotate_array(arr, d, n):\n",
    "    rverse_array(arr, 0, d-1)\n",
    "    rverse_array(arr, d, n-1)\n",
    "    rverse_array(arr, 0, n-1)\n",
    "    "
   ]
  },
  {
   "cell_type": "code",
   "execution_count": 14,
   "metadata": {},
   "outputs": [],
   "source": [
    "arr = array.array('i', [1, 2, 3, 4, 5, 6, 7])\n",
    "d = 2\n",
    "n = 7"
   ]
  },
  {
   "cell_type": "code",
   "execution_count": 15,
   "metadata": {},
   "outputs": [
    {
     "name": "stdout",
     "output_type": "stream",
     "text": [
      "array('i', [2, 1, 3, 4, 5, 6, 7])\n",
      "array('i', [2, 1, 7, 4, 5, 6, 3])\n",
      "array('i', [2, 1, 7, 6, 5, 4, 3])\n",
      "array('i', [3, 1, 7, 6, 5, 4, 2])\n",
      "array('i', [3, 4, 7, 6, 5, 1, 2])\n",
      "array('i', [3, 4, 5, 6, 7, 1, 2])\n"
     ]
    }
   ],
   "source": [
    "left_rotate_array(arr, d, n)"
   ]
  },
  {
   "cell_type": "markdown",
   "metadata": {},
   "source": [
    "### Method 5 (Block swap algorithm)\n",
    "\n",
    "* time complexity: O(n)\n",
    "* complicated to understand and not so efficient\n",
    "\n",
    "so skip"
   ]
  },
  {
   "cell_type": "markdown",
   "metadata": {},
   "source": [
    "Program to cyclically rotate an array by one\n",
    "----------------------------\n",
    "* time complexity: O(n)\n",
    "* auxiliary space: O(1)"
   ]
  },
  {
   "cell_type": "code",
   "execution_count": 28,
   "metadata": {},
   "outputs": [],
   "source": [
    "def rotate_by_one(arr, n):\n",
    "    temp = arr[n-1]\n",
    "    for i in range(n-1, 0, -1):\n",
    "        arr[i] = arr[i-1]\n",
    "        print(arr)\n",
    "    arr[0] = temp"
   ]
  },
  {
   "cell_type": "code",
   "execution_count": 29,
   "metadata": {},
   "outputs": [
    {
     "name": "stdout",
     "output_type": "stream",
     "text": [
      "array('i', [1, 2, 3, 4, 4])\n",
      "array('i', [1, 2, 3, 3, 4])\n",
      "array('i', [1, 2, 2, 3, 4])\n",
      "array('i', [1, 1, 2, 3, 4])\n"
     ]
    }
   ],
   "source": [
    "arr = array.array('i', [1, 2, 3, 4, 5])\n",
    "rotate_by_one(arr, 5)"
   ]
  },
  {
   "cell_type": "code",
   "execution_count": 30,
   "metadata": {},
   "outputs": [
    {
     "data": {
      "text/plain": [
       "array('i', [5, 1, 2, 3, 4])"
      ]
     },
     "execution_count": 30,
     "metadata": {},
     "output_type": "execute_result"
    }
   ],
   "source": [
    "arr"
   ]
  },
  {
   "cell_type": "markdown",
   "metadata": {},
   "source": [
    "Search an element in a sorted and rotated array\n",
    "------------------"
   ]
  }
 ],
 "metadata": {
  "kernelspec": {
   "display_name": "Python 3",
   "language": "python",
   "name": "python3"
  },
  "language_info": {
   "codemirror_mode": {
    "name": "ipython",
    "version": 3
   },
   "file_extension": ".py",
   "mimetype": "text/x-python",
   "name": "python",
   "nbconvert_exporter": "python",
   "pygments_lexer": "ipython3",
   "version": "3.6.5"
  }
 },
 "nbformat": 4,
 "nbformat_minor": 2
}
