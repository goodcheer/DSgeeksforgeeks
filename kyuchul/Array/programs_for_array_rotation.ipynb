{
 "cells": [
  {
   "cell_type": "markdown",
   "metadata": {},
   "source": [
    "Write a function rotate(ar[], d, n) that rotates arr[] of size n by d elements.\n",
    "\n",
    "[1, 2, 3, 4, 5, 6, 7]\n",
    "\n",
    "rotation of the above array by 2 will make array\n",
    "\n",
    "[3, 4, 5, 6, 7, 1, 2]"
   ]
  },
  {
   "cell_type": "markdown",
   "metadata": {},
   "source": [
    "### PRACICE \n",
    "\n",
    "Given an array arr[] of N integers. Do the following operation n-1 times. For every Kth operation:\n",
    "\n",
    "Right rotate the array clockwise by 1.\n",
    "Delete the (n-k+1)th last element.\n",
    "Now, find the element which is left at last.\n",
    "\n",
    "Input:\n",
    "The first line of input contains an integer T denoting the number of test cases. Then T test cases follows. Each test case contains two lines. The first line of each test case contains an integer N. Then in the next line are N space separated values of the array arr[].\n",
    "\n",
    "Output:\n",
    "For each test case in a new line print the required result.\n",
    "\n",
    "Constraints:\n",
    "1 <= T <= 110\n",
    "1 <= N <= 106\n",
    "1 <= A[i] <= 107\n",
    "\n",
    "Example:\n",
    "Input\n",
    "2\n",
    "4\n",
    "1 2 3 4\n",
    "6\n",
    "1 2 3 4 5 6\n",
    "\n",
    "Output:\n",
    "2\n",
    "3\n",
    "\n",
    "Explanation:\n",
    "Testcase 2: A = {1, 2, 3, 4, 5, 6}. Rotate the array clockwise i.e. after rotation the array A = {6, 1, 2, 3, 4, 5} and delete the last element that is {5} so A = {6, 1, 2, 3, 4}. Again rotate the array for the second time and deletes the second last element that is {2} so A = {4, 6, 1, 3}, doing these steps when he reaches 4th time, 4th last element does not exists so he deletes 1st element ie {1} so A={3, 6}. So continuing this procedure the last element in A is {3}, so outputp will be 3."
   ]
  },
  {
   "cell_type": "code",
   "execution_count": 3,
   "metadata": {},
   "outputs": [],
   "source": [
    "import array\n",
    "\n",
    "arr = array.array('i', [1, 2, 3, 4, 5, 6, 7])\n",
    "d = 2\n",
    "n = 7"
   ]
  },
  {
   "cell_type": "markdown",
   "metadata": {},
   "source": [
    "### Method 1 (Using temp array)\n",
    "\n",
    "* Time complexity: O(n)\n",
    "* Auxilary Space: O(d)"
   ]
  },
  {
   "cell_type": "code",
   "execution_count": 21,
   "metadata": {},
   "outputs": [],
   "source": [
    "temp = arr[:d]\n",
    "arr = arr[d:]\n",
    "arr.extend(temp)"
   ]
  },
  {
   "cell_type": "code",
   "execution_count": 22,
   "metadata": {},
   "outputs": [
    {
     "data": {
      "text/plain": [
       "array('i', [3, 4, 5, 6, 7, 1, 2])"
      ]
     },
     "execution_count": 22,
     "metadata": {},
     "output_type": "execute_result"
    }
   ],
   "source": [
    "arr"
   ]
  },
  {
   "cell_type": "markdown",
   "metadata": {},
   "source": [
    "### Method 2 (Rotate one by one)\n",
    "\n",
    "```\n",
    "leftRotate(arr[], d, n)\n",
    "start\n",
    "    For i = 0 to i < d   \n",
    "        Left rotate all elements of arr[] by one\n",
    "end\n",
    "```\n",
    "\n",
    "* time complexity: O(n*d)\n",
    "* Auxilary Space: O(1)"
   ]
  },
  {
   "cell_type": "code",
   "execution_count": 31,
   "metadata": {},
   "outputs": [],
   "source": [
    "arr = array.array('i', [1, 2, 3, 4, 5, 6, 7])\n",
    "d = 2\n",
    "n = 7"
   ]
  },
  {
   "cell_type": "code",
   "execution_count": 32,
   "metadata": {},
   "outputs": [],
   "source": [
    "def leftRotatebyOne(arr, n):\n",
    "    temp = arr[0]\n",
    "    for i in range(n-1):\n",
    "        arr[i] = arr[i+1]\n",
    "    arr[n-1] = temp\n",
    "\n",
    "def leftRotate(arr, d, n):\n",
    "    for i in range(d):\n",
    "        leftRotatebyOne(arr, n)\n",
    "\n",
    "leftRotate(arr, d, n)"
   ]
  },
  {
   "cell_type": "markdown",
   "metadata": {},
   "source": [
    "### Method 3 (A Juggling Algorithm)\n"
   ]
  },
  {
   "cell_type": "markdown",
   "metadata": {},
   "source": [
    "### Method 4 (Reversal algorithm)\n",
    "\n",
    "* time complexity: O(n)"
   ]
  },
  {
   "cell_type": "code",
   "execution_count": 13,
   "metadata": {},
   "outputs": [],
   "source": [
    "def rverse_array(arr, start, end):\n",
    "    while start < end:\n",
    "        temp = arr[start]\n",
    "        arr[start] = arr[end]\n",
    "        arr[end] = temp\n",
    "        start += 1\n",
    "        end -= 1\n",
    "        print(arr)\n",
    "\n",
    "def left_rotate_array(arr, d, n):\n",
    "    rverse_array(arr, 0, d-1)\n",
    "    rverse_array(arr, d, n-1)\n",
    "    rverse_array(arr, 0, n-1)\n",
    "    "
   ]
  },
  {
   "cell_type": "code",
   "execution_count": 14,
   "metadata": {},
   "outputs": [],
   "source": [
    "arr = array.array('i', [1, 2, 3, 4, 5, 6, 7])\n",
    "d = 2\n",
    "n = 7"
   ]
  },
  {
   "cell_type": "code",
   "execution_count": 15,
   "metadata": {},
   "outputs": [
    {
     "name": "stdout",
     "output_type": "stream",
     "text": [
      "array('i', [2, 1, 3, 4, 5, 6, 7])\n",
      "array('i', [2, 1, 7, 4, 5, 6, 3])\n",
      "array('i', [2, 1, 7, 6, 5, 4, 3])\n",
      "array('i', [3, 1, 7, 6, 5, 4, 2])\n",
      "array('i', [3, 4, 7, 6, 5, 1, 2])\n",
      "array('i', [3, 4, 5, 6, 7, 1, 2])\n"
     ]
    }
   ],
   "source": [
    "left_rotate_array(arr, d, n)"
   ]
  },
  {
   "cell_type": "markdown",
   "metadata": {},
   "source": [
    "### Method 5 (Block swap algorithm)\n",
    "\n",
    "* time complexity: O(n)\n",
    "* complicated to understand and not so efficient\n",
    "\n",
    "so skip"
   ]
  },
  {
   "cell_type": "markdown",
   "metadata": {},
   "source": [
    "Program to cyclically rotate an array by one\n",
    "----------------------------\n",
    "* time complexity: O(n)\n",
    "* auxiliary space: O(1)"
   ]
  },
  {
   "cell_type": "code",
   "execution_count": 28,
   "metadata": {},
   "outputs": [],
   "source": [
    "def rotate_by_one(arr, n):\n",
    "    temp = arr[n-1]\n",
    "    for i in range(n-1, 0, -1):\n",
    "        arr[i] = arr[i-1]\n",
    "        print(arr)\n",
    "    arr[0] = temp"
   ]
  },
  {
   "cell_type": "code",
   "execution_count": 29,
   "metadata": {},
   "outputs": [
    {
     "name": "stdout",
     "output_type": "stream",
     "text": [
      "array('i', [1, 2, 3, 4, 4])\n",
      "array('i', [1, 2, 3, 3, 4])\n",
      "array('i', [1, 2, 2, 3, 4])\n",
      "array('i', [1, 1, 2, 3, 4])\n"
     ]
    }
   ],
   "source": [
    "arr = array.array('i', [1, 2, 3, 4, 5])\n",
    "rotate_by_one(arr, 5)"
   ]
  },
  {
   "cell_type": "code",
   "execution_count": 30,
   "metadata": {},
   "outputs": [
    {
     "data": {
      "text/plain": [
       "array('i', [5, 1, 2, 3, 4])"
      ]
     },
     "execution_count": 30,
     "metadata": {},
     "output_type": "execute_result"
    }
   ],
   "source": [
    "arr"
   ]
  },
  {
   "cell_type": "markdown",
   "metadata": {},
   "source": [
    "Search an element in a sorted and rotated array\n",
    "------------------\n",
    "* assume that all elements are unique\n",
    "* time complexity: O(logn)"
   ]
  },
  {
   "cell_type": "code",
   "execution_count": 2,
   "metadata": {},
   "outputs": [],
   "source": [
    "def piovted_binary_search(arr, n, key):\n",
    "    pivot = find_pivot(arr, 0, n-1)\n",
    "    \n",
    "    # array not rotated at all\n",
    "    if pivot == -1:\n",
    "        return binary_search(arr, 0, n-1, key)\n",
    "    \n",
    "    # if pivot is the element\n",
    "    if arr[pivot] == key:\n",
    "        return pivot\n",
    "\n",
    "    if arr[0] <= key:\n",
    "        return binary_search(arr, 0, pivot-1, key)\n",
    "    else:\n",
    "        return binary_search(arr, pivot+1, n-1, key)\n",
    "\n",
    "def pivot_case(arr, low, mid, high):\n",
    "    print('arr: ', arr)\n",
    "    print('arr[{key}] = {value}: '.format(key=low, value=arr[low]))\n",
    "    print('arr[{key}] = {value}: '.format(key=mid, value=arr[mid]))\n",
    "    print('arr[{key}] = {value}: '.format(key=high, value=arr[high]))\n",
    "    "
   ]
  },
  {
   "cell_type": "code",
   "execution_count": null,
   "metadata": {},
   "outputs": [],
   "source": [
    "find_pivot()"
   ]
  },
  {
   "cell_type": "code",
   "execution_count": 7,
   "metadata": {},
   "outputs": [],
   "source": [
    "def find_pivot(arr, low, high):\n",
    "    # base case\n",
    "    if high < low:\n",
    "        return -1\n",
    "    if high == low:\n",
    "        return low\n",
    "    \n",
    "    mid = int((low + high) / 2)\n",
    "    \n",
    "    if arr[mid] > arr[mid + 1]:\n",
    "        print('mid < high')\n",
    "        pivot_case(arr, low, mid, high)\n",
    "        return mid\n",
    "    if arr[mid] < arr[mid - 1]:\n",
    "        print('mid > low')\n",
    "        pivot_case(arr, low, mid, high)\n",
    "        return (mid - 1)\n",
    "    if arr[low] >= arr[mid]:\n",
    "        print('arr[low] >= arr[mid]')\n",
    "        pivot_case(arr, low, mid, high)\n",
    "        return find_pivot(arr, low, mid-1)\n",
    "    return find_pivot(arr, mid + 1, high)"
   ]
  },
  {
   "cell_type": "code",
   "execution_count": 2,
   "metadata": {},
   "outputs": [],
   "source": [
    "def binary_search(arr, low, high, key):\n",
    "    \n",
    "    if high < low:\n",
    "        return -1\n",
    "    \n",
    "    mid = int((low + high) / 2)\n",
    "    \n",
    "    if key == arr[mid]:\n",
    "        return mid\n",
    "    if key > arr[mid]:\n",
    "        return binary_search(arr, mid+1, high, key)\n",
    "    return binary_search(arr, low, mid-1, key)"
   ]
  },
  {
   "cell_type": "code",
   "execution_count": 8,
   "metadata": {},
   "outputs": [],
   "source": [
    "arr1 = array.array('i', [5, 6, 7, 8, 9, 10, 1, 2, 3])\n",
    "n = len(arr1)\n",
    "key = 3"
   ]
  },
  {
   "cell_type": "code",
   "execution_count": 9,
   "metadata": {},
   "outputs": [
    {
     "name": "stdout",
     "output_type": "stream",
     "text": [
      "mid > low\n",
      "arr:  array('i', [5, 6, 7, 8, 9, 10, 1, 2, 3])\n",
      "arr[5] = 10: \n",
      "arr[6] = 1: \n",
      "arr[8] = 3: \n"
     ]
    },
    {
     "data": {
      "text/plain": [
       "5"
      ]
     },
     "execution_count": 9,
     "metadata": {},
     "output_type": "execute_result"
    }
   ],
   "source": [
    "find_pivot(arr1, 0, n-1)"
   ]
  },
  {
   "cell_type": "code",
   "execution_count": 6,
   "metadata": {},
   "outputs": [
    {
     "name": "stdout",
     "output_type": "stream",
     "text": [
      "mid > low\n",
      "arr:  array('i', [5, 6, 7, 8, 9, 10, 1, 2, 3])\n",
      "arr[5] = 10: \n",
      "arr[6] = 1: \n",
      "arr[8] = 3: \n"
     ]
    },
    {
     "data": {
      "text/plain": [
       "8"
      ]
     },
     "execution_count": 6,
     "metadata": {},
     "output_type": "execute_result"
    }
   ],
   "source": [
    "piovted_binary_search(arr1, n, key)"
   ]
  },
  {
   "cell_type": "markdown",
   "metadata": {},
   "source": [
    "### Improved Solution: one pass of Binary Search"
   ]
  },
  {
   "cell_type": "markdown",
   "metadata": {},
   "source": [
    "def binary_search_improved(arr, low, high, key):\n",
    "    if low > high:\n",
    "        return -1\n",
    "    \n",
    "    mid = (low + high ) // 2\n",
    "    if arr[mid] == key:\n",
    "        return mid\n",
    "    \n",
    "    # if arr[low...mid] is sorted`\n",
    "    if arr[low] <= arr[mid]:\n",
    "        \n",
    "        if key >= arr[low] and key <= arr[mid]:\n",
    "            return binary_search_improved(arr, low, mid-1, key)\n",
    "        return "
   ]
  },
  {
   "cell_type": "markdown",
   "metadata": {},
   "source": [
    "Given a sorted and rotated array, find if there is a pair with a given sum\n",
    "----------------\n",
    "\n",
    "Given an array that is sorted and then rotated around an unknown point. Find if the array has a pair with a given sum ‘x’. It may be assumed that all elements in the array are distinct."
   ]
  },
  {
   "cell_type": "code",
   "execution_count": 17,
   "metadata": {},
   "outputs": [],
   "source": [
    "import pdb"
   ]
  },
  {
   "cell_type": "code",
   "execution_count": 22,
   "metadata": {},
   "outputs": [],
   "source": [
    "def pair_in_sorted_rotated(arr, n, x):\n",
    "#     pdb.set_trace()\n",
    "    # find pivot element\n",
    "    for i in range(0, n-1):\n",
    "        if arr[i] > arr[i+1]:\n",
    "            break\n",
    "    \n",
    "    # left is now index of smallest element\n",
    "    left = (i+1) % n   # modular for rotational manner\n",
    "    right = i\n",
    "    \n",
    "    while ( left != right):\n",
    "        if arr[left] + arr[right] == x:\n",
    "            return True\n",
    "        \n",
    "        if arr[left] + arr[right] < x :\n",
    "            left = (left + 1) % n\n",
    "        else:\n",
    "            right = (n + right - 1) % n\n",
    "    return False\n",
    "\n",
    "arr = array.array('i', [10, 15, 26, 38, 6, 10])\n",
    "sum_ = 16\n",
    "n = len(arr)\n"
   ]
  },
  {
   "cell_type": "code",
   "execution_count": 23,
   "metadata": {},
   "outputs": [
    {
     "data": {
      "text/plain": [
       "True"
      ]
     },
     "execution_count": 23,
     "metadata": {},
     "output_type": "execute_result"
    }
   ],
   "source": [
    "pair_in_sorted_rotated(arr, n, sum_)"
   ]
  },
  {
   "cell_type": "markdown",
   "metadata": {},
   "source": [
    "Count all pairs having sum x"
   ]
  },
  {
   "cell_type": "code",
   "execution_count": 24,
   "metadata": {},
   "outputs": [],
   "source": [
    "def pairs_in_sorted_rotated(arr, n, x):\n",
    "#     pdb.set_trace()\n",
    "    # find pivot element\n",
    "    for i in range(0, n-1):\n",
    "        if arr[i] > arr[i+1]:\n",
    "            break\n",
    "    \n",
    "    # left is now index of smallest element\n",
    "    left = (i+1) % n   # modular for rotational manner\n",
    "    right = i\n",
    "    \n",
    "    cnt = 0\n",
    "    \n",
    "    while left != right:\n",
    "        if arr[left] + arr[right] == x:\n",
    "            cnt += 1\n",
    "            \n",
    "            if left == (right - 1 + n) % n:\n",
    "                return cnt\n",
    "            left = (left + 1) % n\n",
    "            right = (n + right - 1) % n\n",
    "        \n",
    "        elif arr[left] + arr[right] < x:\n",
    "            left = (left + 1) % n\n",
    "            \n",
    "        else:\n",
    "            right = (n + right - 1) % n\n",
    "    return cnt"
   ]
  },
  {
   "cell_type": "code",
   "execution_count": 25,
   "metadata": {},
   "outputs": [],
   "source": [
    "arr = array.array('i', [11, 15, 6, 7, 9, 10])\n",
    "s = 16"
   ]
  },
  {
   "cell_type": "code",
   "execution_count": 26,
   "metadata": {},
   "outputs": [
    {
     "data": {
      "text/plain": [
       "2"
      ]
     },
     "execution_count": 26,
     "metadata": {},
     "output_type": "execute_result"
    }
   ],
   "source": [
    "pairs_in_sorted_rotated(arr, 6, s)"
   ]
  },
  {
   "cell_type": "markdown",
   "metadata": {},
   "source": [
    "Find maximum value of Sum( i*arr[i]) with only rotations on given array allowed\n",
    "--------\n",
    "\n",
    "* time complexity: O(n)\n",
    "* auxilary space: O(n)"
   ]
  },
  {
   "cell_type": "code",
   "execution_count": 27,
   "metadata": {},
   "outputs": [
    {
     "data": {
      "text/plain": [
       "330"
      ]
     },
     "execution_count": 27,
     "metadata": {},
     "output_type": "execute_result"
    }
   ],
   "source": [
    "def max_sum(arr):\n",
    "    arr_sum = 0\n",
    "    cur_val = 0\n",
    "    \n",
    "    n = len(arr)\n",
    "    \n",
    "    for i in range(0, n):\n",
    "        arr_sum += arr[i]\n",
    "        cur_val += i * arr[i]\n",
    "    max_val = cur_val\n",
    "    \n",
    "    for j in range(1, n):\n",
    "        cur_val += arr_sum - n * arr[n-j]\n",
    "        if cur_val > max_val:\n",
    "            max_val = cur_val\n",
    "    return cur_val\n",
    "\n",
    "arr = array.array('i', [10, 1, 2, 3, 4, 5, 6, 7, 8, 9])\n",
    "max_sum(arr)\n",
    "        "
   ]
  },
  {
   "cell_type": "markdown",
   "metadata": {},
   "source": [
    "Find the Rotation Count in Rotated Sorted array\n",
    "--------\n",
    "\n",
    "잘 살펴보면 가장 작은 수의 index를 찾는 문제와 동일함을 알 수 있다."
   ]
  },
  {
   "cell_type": "markdown",
   "metadata": {},
   "source": [
    "### solution 1 (linear search)\n",
    "* time complexitiy: O(n)"
   ]
  },
  {
   "cell_type": "code",
   "execution_count": 52,
   "metadata": {},
   "outputs": [],
   "source": [
    "def count_rotations(arr, n):\n",
    "    arr_min = arr[0]\n",
    "    arr_min_ix = 0\n",
    "    for i in range(n):\n",
    "#         print(i, arr[i], arr_min)\n",
    "        if arr[i] < arr_min:\n",
    "#             print(arr[i], i)\n",
    "            arr_min = arr[i]\n",
    "            arr_min_ix = i\n",
    "    return arr_min_ix"
   ]
  },
  {
   "cell_type": "code",
   "execution_count": 57,
   "metadata": {},
   "outputs": [
    {
     "data": {
      "text/plain": [
       "1"
      ]
     },
     "execution_count": 57,
     "metadata": {},
     "output_type": "execute_result"
    }
   ],
   "source": [
    "arr = array.array('i', [10, 1, 2, 3, 4, 5, 6, 7, 8, 9])\n",
    "count_rotations(arr, len(arr))\n",
    "        "
   ]
  },
  {
   "cell_type": "markdown",
   "metadata": {},
   "source": [
    "### solution 2 (binary Search)\n",
    "* time complexity: O(logn)"
   ]
  },
  {
   "cell_type": "code",
   "execution_count": 54,
   "metadata": {},
   "outputs": [],
   "source": [
    "def count_rotations_bs(arr, low, high):\n",
    "    mid = (low + high) // 2\n",
    "    \n",
    "    if arr[mid-1] > arr[mid]:\n",
    "        return mid\n",
    "    \n",
    "    if arr[mid] < arr[high]:\n",
    "        count_rotations_bs(arr, low, mid-1)\n",
    "    else:\n",
    "        count_rotations_bs(arr, mid+1, high)\n",
    "    "
   ]
  },
  {
   "cell_type": "code",
   "execution_count": 58,
   "metadata": {},
   "outputs": [
    {
     "data": {
      "text/plain": [
       "2"
      ]
     },
     "execution_count": 58,
     "metadata": {},
     "output_type": "execute_result"
    }
   ],
   "source": [
    "arr = [15, 18, 2, 3, 6, 12]\n",
    "n = len(arr)\n",
    "\n",
    "count_rotations_bs(arr, 0, n-1)"
   ]
  },
  {
   "cell_type": "markdown",
   "metadata": {},
   "source": [
    "Quickly find multiple left rotations of an array | Set 1\n",
    "-------\n",
    "Given an array of size n and multiple values around which we need to left rotate the array. How to quickly find multiple left rotations?"
   ]
  },
  {
   "cell_type": "code",
   "execution_count": 62,
   "metadata": {},
   "outputs": [
    {
     "name": "stdout",
     "output_type": "stream",
     "text": [
      "7 9 1 3 5 \n"
     ]
    }
   ],
   "source": [
    "def preprocess(arr, n):\n",
    "    temp = [None] * (2 * n)\n",
    "    \n",
    "    for i in range(n):\n",
    "        temp[i] = temp[i + n] = arr[i]\n",
    "    return temp\n",
    "\n",
    "def left_rotate(arr, n, k, temp):\n",
    "    start = k % n\n",
    "    \n",
    "    for i in range(start, start+n):\n",
    "        print(temp[i], end= ' ')\n",
    "    print(\"\")\n",
    "\n",
    "arr = [1, 3, 5, 7, 9]\n",
    "n = len(arr)\n",
    "temp = preprocess(arr, n)\n",
    "left_rotate(arr, n, 3, temp)"
   ]
  },
  {
   "cell_type": "markdown",
   "metadata": {},
   "source": [
    "Find a rotation with maximum hamming distance\n",
    "------\n",
    "\n",
    "* time complexity: O(n*n)\n",
    "* applied auxilary-space efficient solution"
   ]
  },
  {
   "cell_type": "code",
   "execution_count": 64,
   "metadata": {},
   "outputs": [
    {
     "data": {
      "text/plain": [
       "4"
      ]
     },
     "execution_count": 64,
     "metadata": {},
     "output_type": "execute_result"
    }
   ],
   "source": [
    "def max_hamming(arr, n):\n",
    "    \n",
    "    # ham(rotation=0) = 0\n",
    "    max_ham = 0\n",
    "    \n",
    "    # for every possible rotation r < n\n",
    "    for i in range(1, n):\n",
    "        cur_ham = 0\n",
    "        k = 0 # index before rotation\n",
    "        for j in range(i, i + n):\n",
    "            # if arr[index after rotation] != arr[index before rotation] \n",
    "            if arr[j%n] != arr[k]:\n",
    "                cur_ham += 1  # hamming distance increment\n",
    "                k += 1  # compare next element\n",
    "        \n",
    "        if cur_ham == n:\n",
    "            return n\n",
    "    return max(max_ham, cur_ham)\n",
    "\n",
    "arr = array.array('i', [2, 4, 6, 8])\n",
    "max_hamming(arr, 4)   "
   ]
  },
  {
   "cell_type": "markdown",
   "metadata": {},
   "source": [
    "Queries on Left and Right Circular shift on array\n",
    "----------------\n",
    "Given an array A of N integers. There are three type of type of commands:\n",
    "\n",
    "1 x : Right Circular Shift the array x times. If an array is a[0], a[1], …., a[n – 1], then after one right circular shift the array will become a[n – 1], a[0], a[1], …., a[n – 2].\n",
    "2 y : Left Circular Shift the array y times. If an array is a[0], a[1], …., a[n – 1], then after one right circular shift the array will become a[1], …., a[n – 2], a[n – 1], a[0].\n",
    "3 l r : Print the sum of all integers in the subarray a[l…r] (l and r inclusive)."
   ]
  },
  {
   "cell_type": "code",
   "execution_count": 78,
   "metadata": {},
   "outputs": [],
   "source": [
    "def querytype1(toRotate, times, n):\n",
    "    toRotate = (toRotate - times) % n\n",
    "    return toRotate\n",
    "\n",
    "def querytype2(toRotate, times, n):\n",
    "    toRotate = (toRotate + times) % n\n",
    "    return toRotate\n",
    "\n",
    "def querytype3(toRotate, left, right, preSum, n):\n",
    "    left = (left + toRotate + n) % n\n",
    "    right = (right + toRotate + n) % n\n",
    "    \n",
    "    if left <= right:\n",
    "        print(preSum[right + 1] - preSum[left])\n",
    "    else:\n",
    "        print(preSum[n] + preSum[right + 1] - preSum[left])\n",
    "\n",
    "def wrapper(arr, n):\n",
    "    preSum = array.array('i', [0])\n",
    "    for i in range(1, n+1):\n",
    "        preSum.append(preSum[i-1] + arr[i-1])\n",
    "    \n",
    "    toRotate = 0\n",
    "    \n",
    "    toRotate = querytype1(toRotate, 3, n)\n",
    "    querytype3(toRotate, 0, 2, preSum, n)\n",
    "    toRotate = querytype2(toRotate, 1, n)\n",
    "    querytype3(toRotate, 1, 4, preSum, n)\n",
    "    "
   ]
  },
  {
   "cell_type": "code",
   "execution_count": 79,
   "metadata": {},
   "outputs": [
    {
     "name": "stdout",
     "output_type": "stream",
     "text": [
      "12\n",
      "11\n"
     ]
    }
   ],
   "source": [
    "arr = array.array('i', [1, 2, 3, 4, 5])\n",
    "n = len(arr)\n",
    "\n",
    "wrapper(arr, n)"
   ]
  }
 ],
 "metadata": {
  "kernelspec": {
   "display_name": "Python 3",
   "language": "python",
   "name": "python3"
  },
  "language_info": {
   "codemirror_mode": {
    "name": "ipython",
    "version": 3
   },
   "file_extension": ".py",
   "mimetype": "text/x-python",
   "name": "python",
   "nbconvert_exporter": "python",
   "pygments_lexer": "ipython3",
   "version": "3.6.5"
  }
 },
 "nbformat": 4,
 "nbformat_minor": 2
}
