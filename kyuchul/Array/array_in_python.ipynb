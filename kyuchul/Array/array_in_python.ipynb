{
 "cells": [
  {
   "cell_type": "markdown",
   "metadata": {},
   "source": [
    "## Array in Python | SET 1\n",
    "https://www.geeksforgeeks.org/array-python-set-1-introduction-functions/"
   ]
  },
  {
   "cell_type": "code",
   "execution_count": 1,
   "metadata": {},
   "outputs": [
    {
     "name": "stdout",
     "output_type": "stream",
     "text": [
      "The new created array is:  1 2 3 \n"
     ]
    }
   ],
   "source": [
    "import array\n",
    "\n",
    "arr = array.array('i', [1, 2, 3]) # array with integers\n",
    "\n",
    "print(\"The new created array is: \", end=\" \")\n",
    "for i in range(0, 3):\n",
    "    print(arr[i], end=\" \")\n",
    "    \n",
    "print(\"\\r\")"
   ]
  },
  {
   "cell_type": "code",
   "execution_count": 3,
   "metadata": {},
   "outputs": [],
   "source": [
    "arr.append(4)"
   ]
  },
  {
   "cell_type": "code",
   "execution_count": 4,
   "metadata": {},
   "outputs": [
    {
     "name": "stdout",
     "output_type": "stream",
     "text": [
      "The appended array is :1 2 3 4 "
     ]
    }
   ],
   "source": [
    "print(\"The appended array is :\", end='')\n",
    "for i in range(0, 4):\n",
    "    print(arr[i], end=\" \")"
   ]
  },
  {
   "cell_type": "code",
   "execution_count": 5,
   "metadata": {},
   "outputs": [],
   "source": [
    "arr.insert(2, 5)"
   ]
  },
  {
   "cell_type": "code",
   "execution_count": 7,
   "metadata": {},
   "outputs": [
    {
     "name": "stdout",
     "output_type": "stream",
     "text": [
      "1 2 5 3 4 "
     ]
    }
   ],
   "source": [
    "for i in range(0, 5):\n",
    "    print(arr[i], end=' ')"
   ]
  },
  {
   "cell_type": "code",
   "execution_count": 8,
   "metadata": {},
   "outputs": [
    {
     "name": "stdout",
     "output_type": "stream",
     "text": [
      "The poppoes element is :  5\n"
     ]
    }
   ],
   "source": [
    "print(\"The poppoes element is : \", end=' ')\n",
    "print(arr.pop(2))"
   ]
  },
  {
   "cell_type": "code",
   "execution_count": 9,
   "metadata": {},
   "outputs": [
    {
     "name": "stdout",
     "output_type": "stream",
     "text": [
      "The array after popping is:  1 2 3 4 "
     ]
    }
   ],
   "source": [
    "print(\"The array after popping is: \", end=' ')\n",
    "for i in range(0, 4):\n",
    "    print(arr[i], end=' ')"
   ]
  },
  {
   "cell_type": "markdown",
   "metadata": {},
   "source": [
    "using remove() to remove first occurence of 1\n"
   ]
  },
  {
   "cell_type": "code",
   "execution_count": 10,
   "metadata": {},
   "outputs": [],
   "source": [
    "arr.remove(1)"
   ]
  },
  {
   "cell_type": "code",
   "execution_count": 11,
   "metadata": {},
   "outputs": [
    {
     "name": "stdout",
     "output_type": "stream",
     "text": [
      "The array after removing is:  2 3 4 "
     ]
    }
   ],
   "source": [
    "print(\"The array after removing is: \", end=' ')\n",
    "for i in range(0, 3):\n",
    "    print(arr[i], end=' ')"
   ]
  },
  {
   "cell_type": "code",
   "execution_count": 13,
   "metadata": {},
   "outputs": [
    {
     "name": "stdout",
     "output_type": "stream",
     "text": [
      "The new created array is: 1 2 3 1 2 5 "
     ]
    }
   ],
   "source": [
    "arr = array.array('i', [1, 2, 3, 1, 2, 5])\n",
    "\n",
    "print(\"The new created array is: \", end='')\n",
    "for i in range(0, 6):\n",
    "    print(arr[i], end=' ')"
   ]
  },
  {
   "cell_type": "code",
   "execution_count": 14,
   "metadata": {},
   "outputs": [
    {
     "name": "stdout",
     "output_type": "stream",
     "text": [
      "The index of first occurence of 2 is : 1\n"
     ]
    }
   ],
   "source": [
    "print('The index of first occurence of 2 is : ', end='')\n",
    "print(arr.index(2))"
   ]
  },
  {
   "cell_type": "code",
   "execution_count": 15,
   "metadata": {},
   "outputs": [],
   "source": [
    "arr.reverse()"
   ]
  },
  {
   "cell_type": "code",
   "execution_count": 18,
   "metadata": {},
   "outputs": [
    {
     "name": "stdout",
     "output_type": "stream",
     "text": [
      "The array after reversing is : 5 2 1 3 2 1 "
     ]
    }
   ],
   "source": [
    "import sys\n",
    "sys.stdout.write(\"The array after reversing is : \")\n",
    "for i in range(0, 6):\n",
    "    sys.stdout.write(str(arr[i]) + ' ')"
   ]
  },
  {
   "cell_type": "markdown",
   "metadata": {},
   "source": [
    "## Array in Python | SET 2\n",
    "https://www.geeksforgeeks.org/array-in-python-set-2-important-functions/"
   ]
  },
  {
   "cell_type": "markdown",
   "metadata": {},
   "source": [
    "1. typecode: - This function **returns the data type** by which array is initialized\n",
    "2. itemsize: This function **returns size in bytes** of a single array element\n",
    "3. buffer_info(): Returns a tuple representing the **address in which array is stored and number of elelments** in it."
   ]
  },
  {
   "cell_type": "code",
   "execution_count": 29,
   "metadata": {},
   "outputs": [
    {
     "name": "stdout",
     "output_type": "stream",
     "text": [
      "The datatype of array is : i\n",
      "The item size of array is : 4\n",
      "The buffer info. of array is: (2070178868776, 6)\n"
     ]
    }
   ],
   "source": [
    "import array\n",
    "import sys\n",
    "\n",
    "arr = array.array('i', [1, 2, 3, 1, 2, 5])\n",
    "\n",
    "# using typecode to print datatype of array\n",
    "sys.stdout.write(\"The datatype of array is : \")\n",
    "sys.stdout.write(arr.typecode + '\\n')\n",
    "\n",
    "# using itemsize to print itemsize of array\n",
    "sys.stdout.write(\"The item size of array is : \")\n",
    "sys.stdout.write(str(arr.itemsize) + '\\n')\n",
    "\n",
    "# using buffer_info() to print buffer info. of array\n",
    "sys.stdout.write(\"The buffer info. of array is: \")\n",
    "sys.stdout.write(str(arr.buffer_info()) + '\\n')"
   ]
  },
  {
   "cell_type": "code",
   "execution_count": 31,
   "metadata": {},
   "outputs": [
    {
     "name": "stdout",
     "output_type": "stream",
     "text": [
      "The occurennce of 1 in array is : 2\n"
     ]
    }
   ],
   "source": [
    "# using count() to count occurenc of 1 in array\n",
    "sys.stdout.write(\"The occurennce of 1 in array is : \")\n",
    "sys.stdout.write(str(arr.count(1)) + '\\n')"
   ]
  },
  {
   "cell_type": "code",
   "execution_count": 47,
   "metadata": {},
   "outputs": [
    {
     "name": "stdout",
     "output_type": "stream",
     "text": [
      "modified array is:  1 2 3 3 5 6 1 2 3 "
     ]
    }
   ],
   "source": [
    "# appends a whole array mentioned in its arguments to the specified array\n",
    "arr1 = array.array('i', [1, 2, 3, 3, 5, 6 ])\n",
    "arr2 = array.array('i', [1, 2, 3])\n",
    "arr1.extend(arr2)\n",
    "\n",
    "print(\"modified array is: \", end=' ')\n",
    "for i in range(0, 9):\n",
    "    print(arr1[i], end=' ')"
   ]
  }
 ],
 "metadata": {
  "kernelspec": {
   "display_name": "Python 3",
   "language": "python",
   "name": "python3"
  },
  "language_info": {
   "codemirror_mode": {
    "name": "ipython",
    "version": 3
   },
   "file_extension": ".py",
   "mimetype": "text/x-python",
   "name": "python",
   "nbconvert_exporter": "python",
   "pygments_lexer": "ipython3",
   "version": "3.6.5"
  }
 },
 "nbformat": 4,
 "nbformat_minor": 2
}
