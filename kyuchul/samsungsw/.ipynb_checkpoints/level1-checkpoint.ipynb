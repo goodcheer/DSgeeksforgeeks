{
 "cells": [
  {
   "cell_type": "markdown",
   "metadata": {},
   "source": [
    "Input: \n",
    "\n",
    "5\n",
    "\n",
    "22220228\n",
    "\n",
    "20150002\n",
    "\n",
    "01010101\n",
    "\n",
    "20140230\n",
    "\n",
    "11111111\n",
    "\n",
    "Output:\n",
    "\n",
    "#1 2222/02/28\n",
    "#2 -1\n",
    "#3 0101/01/01\n",
    "#4 -1\n",
    "#5 1111/11/11\n",
    "\n",
    "실행 시간 : 0.12964s"
   ]
  },
  {
   "cell_type": "code",
   "execution_count": 13,
   "metadata": {},
   "outputs": [
    {
     "ename": "ValueError",
     "evalue": "invalid literal for int() with base 10: 'd'",
     "output_type": "error",
     "traceback": [
      "\u001b[1;31m---------------------------------------------------------------------------\u001b[0m",
      "\u001b[1;31mValueError\u001b[0m                                Traceback (most recent call last)",
      "\u001b[1;32m<ipython-input-13-29a8ad4bb81b>\u001b[0m in \u001b[0;36m<module>\u001b[1;34m()\u001b[0m\n\u001b[0;32m     14\u001b[0m     \u001b[1;32mreturn\u001b[0m \u001b[1;36m1\u001b[0m\u001b[1;33m\u001b[0m\u001b[0m\n\u001b[0;32m     15\u001b[0m \u001b[1;33m\u001b[0m\u001b[0m\n\u001b[1;32m---> 16\u001b[1;33m \u001b[0mt\u001b[0m \u001b[1;33m=\u001b[0m \u001b[0mint\u001b[0m\u001b[1;33m(\u001b[0m\u001b[0minput\u001b[0m\u001b[1;33m(\u001b[0m\u001b[1;33m)\u001b[0m\u001b[1;33m)\u001b[0m\u001b[1;33m\u001b[0m\u001b[0m\n\u001b[0m\u001b[0;32m     17\u001b[0m \u001b[1;32mfor\u001b[0m \u001b[0mi\u001b[0m \u001b[1;32min\u001b[0m \u001b[0mrange\u001b[0m\u001b[1;33m(\u001b[0m\u001b[0mt\u001b[0m\u001b[1;33m)\u001b[0m\u001b[1;33m:\u001b[0m\u001b[1;33m\u001b[0m\u001b[0m\n\u001b[0;32m     18\u001b[0m     \u001b[0mdate_string\u001b[0m \u001b[1;33m=\u001b[0m \u001b[0minput\u001b[0m\u001b[1;33m(\u001b[0m\u001b[1;33m)\u001b[0m\u001b[1;33m\u001b[0m\u001b[0m\n",
      "\u001b[1;31mValueError\u001b[0m: invalid literal for int() with base 10: 'd'"
     ]
    }
   ],
   "source": [
    "# 1, 3, 5, 7, 8, 10, 12 --> 31\n",
    "# 4, 6, 9, 11 --> 30\n",
    "# 2 --> 28\n",
    "def check_month(intm, intd):\n",
    "    if intm in (1, 3, 5, 7, 8, 10, 12):\n",
    "        if  intd > 31:\n",
    "            return 0\n",
    "    elif intm in (4, 6, 9, 11):\n",
    "        if intd > 30:\n",
    "            return 0\n",
    "    else:\n",
    "        if intd > 28:\n",
    "            return 0\n",
    "    return 1\n",
    "\n",
    "t = int(input())\n",
    "for i in range(t):\n",
    "    date_string = input()\n",
    "    year = date_string[:4]\n",
    "    res = -1\n",
    "    month = date_string[4:6]\n",
    "    intm = int(month)\n",
    "    if intm > 0 and intm < 12:\n",
    "        day = date_string[6:]\n",
    "        intd = int(day)\n",
    "        flag = check_month(intm, intd)\n",
    "        if flag:\n",
    "            res = '{}/{}/{}'.format(year, month, day)\n",
    "    print('#{} {}'.format(i+1, res))"
   ]
  },
  {
   "cell_type": "markdown",
   "metadata": {},
   "source": [
    "### 1위의 답변\n",
    "* 메모리 49,472 kb\n",
    "* 실행시간 106 ms"
   ]
  },
  {
   "cell_type": "code",
   "execution_count": null,
   "metadata": {},
   "outputs": [],
   "source": [
    "t = int(input())\n",
    "cal = { 1:31, 2:28, 3:31, 4:30, 5:31, 6:30, 7:31, 8:31, 9:30, 10:31, 11:30, 12:31 }\n",
    " \n",
    "for i in range(0,t):\n",
    "    a = input()\n",
    "    year = a[:4]\n",
    " \n",
    "    month = a[4:6]\n",
    " \n",
    "    day = a[6:]\n",
    " \n",
    "    if(int(month) >12 or int(month)<=0 ):\n",
    "        out = -1\n",
    "    elif(cal[int(month)]<int(day) or int(day) <= 0):\n",
    "        out = -1\n",
    "    else:\n",
    "        out = year + \"/\" + str(month) + \"/\" + str(day)\n",
    "    print(\"#\" + str(i+1) + \" \" + str(out))"
   ]
  },
  {
   "cell_type": "markdown",
   "metadata": {},
   "source": [
    "### 문제 2: 평균 구하기"
   ]
  },
  {
   "cell_type": "code",
   "execution_count": 14,
   "metadata": {},
   "outputs": [],
   "source": [
    "inputs = ['3', '3 17 1 39 8 41 2 32 99 2', '22 8 5 123 7 2 63 7 3 46', '6 63 2 3 58 76 21 33 8 1']  "
   ]
  },
  {
   "cell_type": "markdown",
   "metadata": {},
   "source": [
    "* 실행시간 0.12559s"
   ]
  },
  {
   "cell_type": "code",
   "execution_count": 19,
   "metadata": {},
   "outputs": [
    {
     "name": "stdout",
     "output_type": "stream",
     "text": [
      "3.0\n",
      "#1 3\n",
      "3.0\n",
      "10.0\n",
      "7.0\n",
      "15.0\n",
      "13.6\n",
      "18.166666666666664\n",
      "15.857142857142854\n",
      "17.874999999999996\n",
      "26.888888888888886\n",
      "24.4\n",
      "#2 24\n",
      "22.0\n",
      "15.0\n",
      "11.666666666666666\n",
      "39.5\n",
      "33.0\n",
      "27.833333333333332\n",
      "32.857142857142854\n",
      "29.624999999999996\n",
      "26.666666666666664\n",
      "28.599999999999998\n",
      "#3 28\n"
     ]
    }
   ],
   "source": [
    "t = int(input())\n",
    "\n",
    "for i in range(t):\n",
    "    strnums = input().split(' ')\n",
    "    avg = 0\n",
    "    numer = 0\n",
    "    for strn in strnums:\n",
    "        numer += 1\n",
    "        avg += (int(strn) - avg) / numer\n",
    "    if avg - int(avg) >= 0.5:\n",
    "        avg = int(avg) + 1\n",
    "    else:\n",
    "        avg = int(avg)\n",
    "\n",
    "    print('#%i %i' % (i+1, avg))"
   ]
  }
 ],
 "metadata": {
  "kernelspec": {
   "display_name": "Python 3",
   "language": "python",
   "name": "python3"
  },
  "language_info": {
   "codemirror_mode": {
    "name": "ipython",
    "version": 3
   },
   "file_extension": ".py",
   "mimetype": "text/x-python",
   "name": "python",
   "nbconvert_exporter": "python",
   "pygments_lexer": "ipython3",
   "version": "3.6.5"
  }
 },
 "nbformat": 4,
 "nbformat_minor": 2
}
